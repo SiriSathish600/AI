{
  "nbformat": 4,
  "nbformat_minor": 0,
  "metadata": {
    "colab": {
      "provenance": [],
      "authorship_tag": "ABX9TyNaobimweCok+8PlzubPRai",
      "include_colab_link": true
    },
    "kernelspec": {
      "name": "python3",
      "display_name": "Python 3"
    },
    "language_info": {
      "name": "python"
    }
  },
  "cells": [
    {
      "cell_type": "markdown",
      "metadata": {
        "id": "view-in-github",
        "colab_type": "text"
      },
      "source": [
        "<a href=\"https://colab.research.google.com/github/SiriSathish600/AI/blob/main/TT_Enumeration_Algo_For_Propositional_Logic.ipynb\" target=\"_parent\"><img src=\"https://colab.research.google.com/assets/colab-badge.svg\" alt=\"Open In Colab\"/></a>"
      ]
    },
    {
      "cell_type": "code",
      "source": [
        "import itertools\n",
        "\n",
        "def evaluate_formula(formula, valuation):\n",
        "    \"\"\"\n",
        "    Evaluate the propositional formula under the given truth assignment (valuation).\n",
        "    The formula is a string of logical operators like 'AND', 'OR', 'NOT', and can contain variables 'A', 'B', 'C'.\n",
        "    \"\"\"\n",
        "    # Create a local environment (dictionary) for variable assignments\n",
        "    env = {var: valuation[i] for i, var in enumerate(['A', 'B', 'C'])}\n",
        "\n",
        "    # Replace logical operators with Python equivalents\n",
        "    formula = formula.replace('AND', 'and').replace('OR', 'or').replace('NOT', 'not')\n",
        "\n",
        "    # Replace variables in the formula with their corresponding truth values\n",
        "    for var in env:\n",
        "        formula = formula.replace(var, str(env[var]))\n",
        "\n",
        "    # Evaluate the formula and return the result (True or False)\n",
        "    try:\n",
        "        return eval(formula)\n",
        "    except Exception as e:\n",
        "        raise ValueError(f\"Error in evaluating formula: {e}\")\n",
        "\n",
        "def truth_table(variables):\n",
        "    \"\"\"\n",
        "    Generate all possible truth assignments for the given variables.\n",
        "    \"\"\"\n",
        "    return list(itertools.product([False, True], repeat=len(variables)))\n",
        "\n",
        "def entails(KB, alpha):\n",
        "    \"\"\"\n",
        "    Decide if KB entails alpha using a truth-table enumeration algorithm.\n",
        "    KB is a propositional formula (string), and alpha is another propositional formula (string).\n",
        "    \"\"\"\n",
        "    # Generate all possible truth assignments for A, B, and C\n",
        "    assignments = truth_table(['A', 'B', 'C'])\n",
        "\n",
        "    # To keep track of whether KB entails alpha\n",
        "    entails_alpha = True\n",
        "    rows_to_display = []  # List to collect rows where KB entails alpha\n",
        "\n",
        "    for assignment in assignments:\n",
        "        # Evaluate KB and alpha under the current assignment\n",
        "        KB_value = evaluate_formula(KB, assignment)\n",
        "        alpha_value = evaluate_formula(alpha, assignment)\n",
        "\n",
        "        # Collect only the rows where KB and alpha are both true\n",
        "        if KB_value and alpha_value:\n",
        "            rows_to_display.append((assignment, KB_value, alpha_value))\n",
        "\n",
        "        # If KB is true and alpha is false, then KB does not entail alpha\n",
        "        if KB_value and not alpha_value:\n",
        "            entails_alpha = False\n",
        "\n",
        "    # If KB entails alpha, display the rows where KB and alpha are true\n",
        "    if entails_alpha:\n",
        "        # Print the header for the truth table (only for the rows where KB entails alpha)\n",
        "        print(f\"{'A':<5}{'B':<5}{'C':<5}{'KB':<15}{'alpha':<15}\")\n",
        "        print(\"-\" * 40)  # Separator for readability\n",
        "\n",
        "        # Print the rows where KB entails alpha\n",
        "        for row in rows_to_display:\n",
        "            assignment, KB_value, alpha_value = row\n",
        "            print(f\"{assignment[0]:<5}{assignment[1]:<5}{assignment[2]:<5}{KB_value:<15}{alpha_value:<15}\")\n",
        "\n",
        "    return entails_alpha\n",
        "\n",
        "# Define the formulas for KB and alpha\n",
        "alpha = 'A OR B'\n",
        "KB = '(A OR C) AND (B OR NOT C)'\n",
        "\n",
        "# Check if KB entails alpha\n",
        "result = entails(KB, alpha)\n",
        "\n",
        "# Print the final result of entailment\n",
        "print(f\"\\nDoes KB entail alpha? {result}\")\n"
      ],
      "metadata": {
        "colab": {
          "base_uri": "https://localhost:8080/"
        },
        "id": "oxWKATktwV8d",
        "outputId": "6856e2ed-5db4-4c03-9574-957c8a6edb91"
      },
      "execution_count": 5,
      "outputs": [
        {
          "output_type": "stream",
          "name": "stdout",
          "text": [
            "A    B    C    KB             alpha          \n",
            "----------------------------------------\n",
            "0    1    1    1              1              \n",
            "1    0    0    1              1              \n",
            "1    1    0    1              1              \n",
            "1    1    1    1              1              \n",
            "\n",
            "Does KB entail alpha? True\n"
          ]
        }
      ]
    }
  ]
}